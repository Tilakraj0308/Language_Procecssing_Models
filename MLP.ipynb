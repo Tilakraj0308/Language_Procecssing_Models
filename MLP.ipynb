{
 "cells": [
  {
   "cell_type": "code",
   "execution_count": 1,
   "id": "250cfc0c",
   "metadata": {},
   "outputs": [],
   "source": [
    "import torch\n",
    "import torch.nn.functional as F\n",
    "import matplotlib.pyplot as plt\n",
    "%matplotlib inline\n",
    "import pandas as pd"
   ]
  },
  {
   "cell_type": "code",
   "execution_count": 2,
   "id": "6d238314",
   "metadata": {},
   "outputs": [
    {
     "data": {
      "text/plain": [
       "['shivani',\n",
       " 'isha',\n",
       " 'smt',\n",
       " 'divya',\n",
       " 'mansi',\n",
       " 'mazida',\n",
       " 'pooja',\n",
       " 'kajal',\n",
       " 'meena',\n",
       " 'sonam']"
      ]
     },
     "execution_count": 2,
     "metadata": {},
     "output_type": "execute_result"
    }
   ],
   "source": [
    "# Loading dataset\n",
    "\n",
    "# words_df = pd.read_csv('data/Indian-Male-Names.csv')\n",
    "words_df = pd.read_csv('data/Indian-Female-Names.csv')\n",
    "words_list = words_df.values.tolist()\n",
    "\n",
    "# First 10 names\n",
    "import re\n",
    "patt = r'^[A-Za-z\\s]+$'\n",
    "words = [w[0].split()[0] for w in words_list if type(w[0]) == str and bool(re.match(patt, w[0]))]\n",
    "words[:10]"
   ]
  },
  {
   "cell_type": "code",
   "execution_count": 3,
   "id": "74f4f287",
   "metadata": {},
   "outputs": [],
   "source": [
    "# loading dataset\n",
    "# words = open('names.txt', 'r').read().splitlines()\n",
    "# words[:10]"
   ]
  },
  {
   "cell_type": "code",
   "execution_count": 4,
   "id": "eba240f7",
   "metadata": {},
   "outputs": [
    {
     "data": {
      "text/plain": [
       "13992"
      ]
     },
     "execution_count": 4,
     "metadata": {},
     "output_type": "execute_result"
    }
   ],
   "source": [
    "len(words)"
   ]
  },
  {
   "cell_type": "code",
   "execution_count": 5,
   "id": "403b4d22",
   "metadata": {},
   "outputs": [
    {
     "data": {
      "text/plain": [
       "{1: 'a',\n",
       " 2: 'b',\n",
       " 3: 'c',\n",
       " 4: 'd',\n",
       " 5: 'e',\n",
       " 6: 'f',\n",
       " 7: 'g',\n",
       " 8: 'h',\n",
       " 9: 'i',\n",
       " 10: 'j',\n",
       " 11: 'k',\n",
       " 12: 'l',\n",
       " 13: 'm',\n",
       " 14: 'n',\n",
       " 15: 'o',\n",
       " 16: 'p',\n",
       " 17: 'q',\n",
       " 18: 'r',\n",
       " 19: 's',\n",
       " 20: 't',\n",
       " 21: 'u',\n",
       " 22: 'v',\n",
       " 23: 'w',\n",
       " 24: 'x',\n",
       " 25: 'y',\n",
       " 26: 'z',\n",
       " 0: '.'}"
      ]
     },
     "execution_count": 5,
     "metadata": {},
     "output_type": "execute_result"
    }
   ],
   "source": [
    "# Creating the lookup dictionaries for the string to integer and integer to string\n",
    "chars = sorted(list(set(''.join(words))))\n",
    "stoi = {s:i+1 for i,s in enumerate(chars)}\n",
    "stoi['.'] = 0\n",
    "itos = {i:s for s,i in stoi.items()}\n",
    "itos"
   ]
  },
  {
   "cell_type": "markdown",
   "id": "5acc5f40",
   "metadata": {},
   "source": [
    "## Using MLP"
   ]
  },
  {
   "cell_type": "code",
   "execution_count": 6,
   "id": "4e898ead",
   "metadata": {},
   "outputs": [],
   "source": [
    "# Function to create a dataset taking input as data and the lookbehind_size(how much characters to look back while predicting next)\n",
    "def make_dataset(words, lookbehind_size=6):\n",
    "    X, Y = [], []\n",
    "    for w in words:\n",
    "        context = [0]*lookbehind_size\n",
    "        for char in w+'.':\n",
    "            i = stoi[char]\n",
    "            X.append(context)\n",
    "            Y.append(i)\n",
    "            context = context[1:] + [i]\n",
    "\n",
    "    X = torch.tensor(X)\n",
    "    Y = torch.tensor(Y)\n",
    "    return X,Y"
   ]
  },
  {
   "cell_type": "code",
   "execution_count": 7,
   "id": "eaa46682",
   "metadata": {},
   "outputs": [],
   "source": [
    "#Splitting Dataset randomly\n",
    "import random\n",
    "random.seed(42)\n",
    "random.shuffle(words)\n",
    "n1 = int(0.8*len(words))\n",
    "n2 = int(0.9*len(words))\n",
    "lookbehind_size = 4\n",
    "x_train, y_train = make_dataset(words[:n1], lookbehind_size)\n",
    "x_val, y_val = make_dataset(words[n1:n2], lookbehind_size)\n",
    "x_test, y_test = make_dataset(words[n2:], lookbehind_size)"
   ]
  },
  {
   "cell_type": "code",
   "execution_count": 8,
   "id": "1f634b83",
   "metadata": {},
   "outputs": [
    {
     "data": {
      "text/plain": [
       "(torch.Size([73432, 4]), torch.Size([73432]))"
      ]
     },
     "execution_count": 8,
     "metadata": {},
     "output_type": "execute_result"
    }
   ],
   "source": [
    "x_train.shape, y_train.shape"
   ]
  },
  {
   "cell_type": "code",
   "execution_count": 9,
   "id": "862fbfb2",
   "metadata": {},
   "outputs": [],
   "source": [
    "# Creating weights and biases for the model\n",
    "g = torch.Generator().manual_seed(2147483647)\n",
    "# C is the lookup table for the chracters which maps each character into n dimensional vector\n",
    "n = 10\n",
    "C = torch.randn((27,n), generator=g, requires_grad=True)\n",
    "# lookbehind_size no of characters are stacked one upon another, each n dimensional creating a total of\n",
    "# n*lookbehind_size units\n",
    "\n",
    "# creating weights and biases\n",
    "w1 = torch.randn((n*lookbehind_size,300), generator=g, requires_grad=True)\n",
    "b1 = torch.randn(300, generator=g, requires_grad=True)\n",
    "w2 = torch.randn((300, 27), generator=g, requires_grad=True)\n",
    "b2 = torch.randn(27, generator=g, requires_grad=True)\n",
    "parameters = [C, w1, b1, w2, b2]"
   ]
  },
  {
   "cell_type": "code",
   "execution_count": 10,
   "id": "91200393",
   "metadata": {},
   "outputs": [
    {
     "data": {
      "text/plain": [
       "20697"
      ]
     },
     "execution_count": 10,
     "metadata": {},
     "output_type": "execute_result"
    }
   ],
   "source": [
    "sum(p.nelement() for p in parameters) #Total parameters"
   ]
  },
  {
   "cell_type": "markdown",
   "id": "20f7d44f",
   "metadata": {},
   "source": [
    "## Checking for a good learning rate"
   ]
  },
  {
   "cell_type": "code",
   "execution_count": 11,
   "id": "decf0192",
   "metadata": {},
   "outputs": [],
   "source": [
    "lre = torch.linspace(-3, 0, 1000)\n",
    "lrs = 10**lre"
   ]
  },
  {
   "cell_type": "code",
   "execution_count": 12,
   "id": "fb225d70",
   "metadata": {},
   "outputs": [
    {
     "name": "stdout",
     "output_type": "stream",
     "text": [
      "tensor(13.4984, grad_fn=<NllLossBackward0>)\n"
     ]
    }
   ],
   "source": [
    "lres, losses = [], []\n",
    "for i in range(1000):\n",
    "    \n",
    "    # Mini batches of size 64\n",
    "    ix = torch.randint(0, x_train.shape[0], (64,))\n",
    "    \n",
    "    # forward pass\n",
    "    emb = C[x_train[ix]]\n",
    "    \n",
    "    # stacking the n dimensional vectors on top of others\n",
    "    h = torch.tanh(emb.view(-1, n*lookbehind_size)@w1+b1)\n",
    "    \n",
    "    # getting logits\n",
    "    logits = h@w2+b2\n",
    "    # Calculating cross entropy loss\n",
    "    loss = F.cross_entropy(logits, y_train[ix])\n",
    "    # backward pass\n",
    "    for p in parameters:\n",
    "        p.grad = None\n",
    "    loss.backward()\n",
    "    # update\n",
    "    lr = lrs[i]\n",
    "    lres.append(lr)\n",
    "    losses.append(loss.item())\n",
    "#     if i<40000:\n",
    "#         lr = 0.1\n",
    "#     else:\n",
    "#         lr = 0.01\n",
    "    for p in parameters:\n",
    "        p.data += -lr*p.grad\n",
    "print(loss)"
   ]
  },
  {
   "cell_type": "code",
   "execution_count": 13,
   "id": "add402cc",
   "metadata": {},
   "outputs": [
    {
     "data": {
      "text/plain": [
       "[<matplotlib.lines.Line2D at 0x7fef53e03970>]"
      ]
     },
     "execution_count": 13,
     "metadata": {},
     "output_type": "execute_result"
    },
    {
     "data": {
      "image/png": "[encoded data removed]",
      "text/plain": [
       "<Figure size 640x480 with 1 Axes>"
      ]
     },
     "metadata": {},
     "output_type": "display_data"
    }
   ],
   "source": [
    "plt.plot(lres, losses)"
   ]
  },
  {
   "cell_type": "markdown",
   "id": "f3e69aa8",
   "metadata": {},
   "source": [
    "## Training on the good learning rate"
   ]
  },
  {
   "cell_type": "code",
   "execution_count": 14,
   "id": "a136f5ed",
   "metadata": {},
   "outputs": [
    {
     "name": "stdout",
     "output_type": "stream",
     "text": [
      "tensor(1.0701, grad_fn=<NllLossBackward0>)\n"
     ]
    }
   ],
   "source": [
    "iters, losses = [], []\n",
    "for i in range(50000):\n",
    "    \n",
    "    # Mini batches of size 64\n",
    "    ix = torch.randint(0, x_train.shape[0], (64,))\n",
    "    \n",
    "    # forward pass\n",
    "    emb = C[x_train[ix]]\n",
    "    \n",
    "    # stacking the n dimensional vectors on top of others\n",
    "    h = torch.tanh(emb.view(-1, n*lookbehind_size)@w1+b1)\n",
    "    \n",
    "    # getting logits\n",
    "    logits = h@w2+b2\n",
    "    # Calculating cross entropy loss\n",
    "    loss = F.cross_entropy(logits, y_train[ix])\n",
    "    iters.append(i)\n",
    "    losses.append(loss.item())\n",
    "    # backward pass\n",
    "    for p in parameters:\n",
    "        p.grad = None\n",
    "    loss.backward()\n",
    "    # update\n",
    "    lr = 0.0\n",
    "    if i<40000:\n",
    "        lr = 0.1\n",
    "    else:\n",
    "        lr = 0.01\n",
    "    for p in parameters:\n",
    "        p.data += -lr*p.grad\n",
    "print(loss)"
   ]
  },
  {
   "cell_type": "code",
   "execution_count": 15,
   "id": "3c20fafd",
   "metadata": {},
   "outputs": [
    {
     "data": {
      "text/plain": [
       "[<matplotlib.lines.Line2D at 0x7fef53af3850>]"
      ]
     },
     "execution_count": 15,
     "metadata": {},
     "output_type": "execute_result"
    },
    {
     "data": {
      "image/png": "[encoded data removed]",
      "text/plain": [
       "<Figure size 640x480 with 1 Axes>"
      ]
     },
     "metadata": {},
     "output_type": "display_data"
    }
   ],
   "source": [
    "plt.plot(iters, losses)"
   ]
  },
  {
   "cell_type": "code",
   "execution_count": 16,
   "id": "c9b91d52",
   "metadata": {},
   "outputs": [
    {
     "name": "stdout",
     "output_type": "stream",
     "text": [
      "tensor(1.4711, grad_fn=<NllLossBackward0>)\n"
     ]
    }
   ],
   "source": [
    "# Testing error\n",
    "emb = C[x_test]\n",
    "h = torch.tanh(emb.view(-1, n*lookbehind_size)@w1+b1)\n",
    "logits = h@w2+b2\n",
    "loss = F.cross_entropy(logits, y_test)\n",
    "print(loss)"
   ]
  },
  {
   "cell_type": "markdown",
   "id": "ae154689",
   "metadata": {},
   "source": [
    "## Generating random new names"
   ]
  },
  {
   "cell_type": "code",
   "execution_count": 17,
   "id": "cdac9537",
   "metadata": {},
   "outputs": [],
   "source": [
    "g = torch.Generator().manual_seed(2147483647+10)"
   ]
  },
  {
   "cell_type": "code",
   "execution_count": 18,
   "id": "3b08bdf1",
   "metadata": {},
   "outputs": [
    {
     "name": "stdout",
     "output_type": "stream",
     "text": [
      "heen\n",
      "sheelam\n",
      "areeeni\n",
      "katumashu\n"
     ]
    }
   ],
   "source": [
    "# Randomly creating names with this model\n",
    "# print(len(words))\n",
    "for _ in range(20):\n",
    "    out = []\n",
    "    context = [0]*lookbehind_size\n",
    "    while True:\n",
    "        emb = C[torch.tensor([context])]\n",
    "        h = torch.tanh(emb.view(1, -1)@w1+b1)\n",
    "        logits = h@w2+b2\n",
    "        probs = F.softmax(logits, dim=1)\n",
    "        ix = torch.multinomial(probs, num_samples=1, generator=g).item()\n",
    "        context = context[1:]+[ix]\n",
    "        out.append(ix)\n",
    "        if ix == 0:\n",
    "            break\n",
    "    name = ''.join(itos[i] for i in out)\n",
    "#     print(\"1\", name)\n",
    "    if name[:-1] not in words:\n",
    "        print(name[:-1])"
   ]
  },
  {
   "cell_type": "code",
   "execution_count": null,
   "id": "6d5c9062",
   "metadata": {},
   "outputs": [],
   "source": []
  }
 ],
 "metadata": {
  "kernelspec": {
   "display_name": "Python 3 (ipykernel)",
   "language": "python",
   "name": "python3"
  },
  "language_info": {
   "codemirror_mode": {
    "name": "ipython",
    "version": 3
   },
   "file_extension": ".py",
   "mimetype": "text/x-python",
   "name": "python",
   "nbconvert_exporter": "python",
   "pygments_lexer": "ipython3",
   "version": "3.10.4"
  }
 },
 "nbformat": 4,
 "nbformat_minor": 5
}
